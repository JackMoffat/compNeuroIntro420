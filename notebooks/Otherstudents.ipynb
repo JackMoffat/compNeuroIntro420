{
 "cells": [
  {
   "cell_type": "code",
   "execution_count": 2,
   "metadata": {},
   "outputs": [
    {
     "name": "stdout",
     "output_type": "stream",
     "text": [
      "0.3176769140606974\n",
      "0.05293248525724958\n",
      "0.5961207535084603\n"
     ]
    },
    {
     "data": {
      "image/png": "[encoded data removed]",
      "text/plain": [
       "<matplotlib.figure.Figure at 0x1eabfbbdd68>"
      ]
     },
     "metadata": {},
     "output_type": "display_data"
    }
   ],
   "source": [
    "from numpy import *\n",
    "from pylab import *\n",
    "from math  import *\n",
    "\n",
    "T      = 25\n",
    "dt     = 0.01\n",
    "time   = arange(1,(T+1),dt)\n",
    "V_0    = 0\n",
    "I      = [None]*len(time)\n",
    "V      = [None]*len(time)\n",
    "V[0]   = V_0\n",
    "n      = [None]*len(time)\n",
    "m      = [None]*len(time)\n",
    "h      = [None]*len(time)\n",
    "E_Na   = 115\n",
    "E_K    = -12\n",
    "E_L    = 10.6\n",
    "g_Na   = 120\n",
    "g_K    = 36\n",
    "g_L    = 0.3\n",
    "C      = 1\n",
    "# the K gates cotrolled by n\n",
    "def alpha_n(v): \n",
    "    if v!=10: \n",
    "        alphan = (0.1-0.01*v)/(exp(1-0.1*v) - 1)  \n",
    "    else: \n",
    "        alphan = 0.1\n",
    "    return alphan\n",
    "def beta_n(v):\n",
    "    betan = 0.125*exp(-1*v/80)\n",
    "    return betan\n",
    "# the Na gates cotrolled by m\n",
    "def alpha_m(v):\n",
    "    alpham = 0.1*(25-v)/(exp((25-v)/10)-1)\n",
    "    return alpham\n",
    "def beta_m(v):\n",
    "    betam = 4*exp(-1*v/18)\n",
    "    return betam\n",
    "# the Na gates cotrolled by h\n",
    "def alpha_h(v):\n",
    "    alphah = 0.07*exp(-1*v/20)\n",
    "    return alphah\n",
    "def beta_h(v):\n",
    "    betah = 1/(exp((30-v)/10)+1)\n",
    "    return betah\n",
    "\n",
    "m[0] = alpha_m(V_0) / (alpha_m(V_0) + beta_m(V_0))\n",
    "n[0] = alpha_n(V_0) / (alpha_n(V_0) + beta_n(V_0))\n",
    "h[0] = alpha_h(V_0) / (alpha_h(V_0) + beta_h(V_0))   \n",
    "\n",
    "\n",
    "\n",
    "# update the list of currency values with injection\n",
    "def inject(I_val = 10):\n",
    "    for j, t in enumerate(time):\n",
    "        if 20 >= t >= 5:\n",
    "            I[j] = I_val  #current injection (uA/cm2)\n",
    "        else:\n",
    "            I[j] = 0\n",
    "\n",
    "\n",
    "# update the list of voltages\n",
    "def v_record():\n",
    "    for j in range(1, len(time)):\n",
    "        n[j] = n[j-1] + dt*(alpha_n(V[j-1])*(1 - n[j-1]) - beta_n(V[j-1])*n[j-1])\n",
    "        m[j] = m[j-1] + dt*(alpha_m(V[j-1])*(1 - m[j-1]) - beta_m(V[j-1])*m[j-1])\n",
    "        h[j] = h[j-1] + dt*(alpha_h(V[j-1])*(1 - h[j-1]) - beta_h(V[j-1])*h[j-1])\n",
    "\n",
    "        V[j] = V[j-1] + dt*(I[j-1] - (g_Na*(m[j-1]**3)*h[j-1]*(V[j-1] - E_Na) \n",
    "                                      + g_K*(n[j-1]**4)*(V[j-1] - E_K) \n",
    "                                      + g_L*(V[j-1] - E_L)))/C \n",
    "        #print(alpha_n(V[j-1]))\n",
    "        #print(beta_n(V[j-1]))\n",
    "        #print(alpha_m(V[j-1]))\n",
    "        #print(beta_m(V[j-1]))\n",
    "        #print(alpha_h(V[j-1]))\n",
    "        #print(beta_h(V[j-1]))\n",
    "\n",
    "def main():\n",
    "    I_input = input('input your current injection value here: ')\n",
    "    inject(eval(I_input))\n",
    "    v_record()\n",
    "    plot(time, V, time, I)\n",
    "    legend(('V','I'))\n",
    "    ylabel('V (mV)')\n",
    "    xlabel('Time (msec)')\n",
    "    show()\n",
    "\n",
    "\n",
    "print(n[0])\n",
    "print(m[0])\n",
    "print(h[0])\n",
    "\n",
    "main()\n"
   ]
  },
  {
   "cell_type": "code",
   "execution_count": null,
   "metadata": {},
   "outputs": [],
   "source": []
  }
 ],
 "metadata": {
  "kernelspec": {
   "display_name": "Python 3",
   "language": "python",
   "name": "python3"
  },
  "language_info": {
   "codemirror_mode": {
    "name": "ipython",
    "version": 3
   },
   "file_extension": ".py",
   "mimetype": "text/x-python",
   "name": "python",
   "nbconvert_exporter": "python",
   "pygments_lexer": "ipython3",
   "version": "3.6.4"
  }
 },
 "nbformat": 4,
 "nbformat_minor": 2
}
